{
 "cells": [
  {
   "cell_type": "code",
   "execution_count": 45,
   "metadata": {},
   "outputs": [
    {
     "name": "stdout",
     "output_type": "stream",
     "text": [
      "/home/billdjomkam/Bureau/M2/ModelRF/Test\n"
     ]
    }
   ],
   "source": [
    "cd /home/billdjomkam/Bureau/M2/ModelRF/Test"
   ]
  },
  {
   "cell_type": "code",
   "execution_count": 46,
   "metadata": {},
   "outputs": [],
   "source": [
    "import pandas as pd\n",
    "import os\n",
    "from os import listdir"
   ]
  },
  {
   "cell_type": "code",
   "execution_count": 47,
   "metadata": {},
   "outputs": [
    {
     "data": {
      "text/plain": [
       "'/home/billdjomkam/Bureau/M2/ModelRF/Test'"
      ]
     },
     "execution_count": 47,
     "metadata": {},
     "output_type": "execute_result"
    }
   ],
   "source": [
    "pwd"
   ]
  },
  {
   "cell_type": "code",
   "execution_count": 48,
   "metadata": {},
   "outputs": [
    {
     "name": "stdout",
     "output_type": "stream",
     "text": [
      "['Feature collection dca', 'testExtractsubgroup.R', 'Feature collection dba', 'rsubgroupfeature.ipynb']\n"
     ]
    }
   ],
   "source": [
    "#path = './'\n",
    "dir_list = os.listdir()\n",
    "print(dir_list)"
   ]
  },
  {
   "cell_type": "code",
   "execution_count": 49,
   "metadata": {},
   "outputs": [
    {
     "name": "stdout",
     "output_type": "stream",
     "text": [
      "Feature collection dca\n",
      "/home/billdjomkam/Bureau/M2/ModelRF/Test/Feature collection dca\n",
      "[1] \"Begin Extract feature to AA sequence\"\n",
      "[1] \"####Generation of features composition from protein sequence###\"\n",
      "[1] TRUE\n",
      "[1] \"## End  of features composition from protein sequence##\"\n",
      "[1] \"####Generation of features composition from gene sequence###\\\"\"\n",
      "\n",
      "Attachement du package : ‘rDNAse’\n",
      "\n",
      "The following objects are masked from ‘package:protr’:\n",
      "\n",
      "    parGOSim, parSeqSim, readFASTA, twoGOSim, twoSeqSim\n",
      "\n",
      "[1] TRUE\n",
      "/home/billdjomkam/Bureau/M2/ModelRF/Test\n",
      "Feature collection dba\n",
      "/home/billdjomkam/Bureau/M2/ModelRF/Test/Feature collection dba\n",
      "[1] \"Begin Extract feature to AA sequence\"\n",
      "[1] \"####Generation of features composition from protein sequence###\"\n",
      "[1] TRUE\n",
      "[1] \"## End  of features composition from protein sequence##\"\n",
      "[1] \"####Generation of features composition from gene sequence###\\\"\"\n",
      "\n",
      "Attachement du package : ‘rDNAse’\n",
      "\n",
      "The following objects are masked from ‘package:protr’:\n",
      "\n",
      "    parGOSim, parSeqSim, readFASTA, twoGOSim, twoSeqSim\n",
      "\n",
      "[1] TRUE\n",
      "/home/billdjomkam/Bureau/M2/ModelRF/Test\n"
     ]
    }
   ],
   "source": [
    "protein_folder = \"subgroup_protein\"\n",
    "gene_folder = \"subgroup_gene\"\n",
    "script = '/home/billdjomkam/Bureau/M2/ModelRF/Test/testExtractsubgroup.R'\n",
    "codeR = 'testExtractsubgroup.R'\n",
    "for folder in dir_list:\n",
    "    if os.path.isdir(folder):\n",
    "        print(folder)\n",
    "        %cd $folder\n",
    "        !mkdir $protein_folder $gene_folder\n",
    "        !cp $script ./\n",
    "        !Rscript $codeR EssentialsequenceNT-clean.fasta EssentialsequenceAA-clean.fasta Essential\n",
    "        !rm $codeR\n",
    "        %cd .."
   ]
  },
  {
   "cell_type": "code",
   "execution_count": 26,
   "metadata": {},
   "outputs": [
    {
     "data": {
      "text/plain": [
       "'/home/billdjomkam/Bureau/M2/ModelRF/Test/Feature collection ast'"
      ]
     },
     "execution_count": 26,
     "metadata": {},
     "output_type": "execute_result"
    }
   ],
   "source": [
    "pwd"
   ]
  },
  {
   "cell_type": "code",
   "execution_count": null,
   "metadata": {},
   "outputs": [],
   "source": []
  }
 ],
 "metadata": {
  "interpreter": {
   "hash": "916dbcbb3f70747c44a77c7bcd40155683ae19c65e1c03b4aa3499c5328201f1"
  },
  "kernelspec": {
   "display_name": "Python 3.8.10 64-bit",
   "language": "python",
   "name": "python3"
  },
  "language_info": {
   "codemirror_mode": {
    "name": "ipython",
    "version": 3
   },
   "file_extension": ".py",
   "mimetype": "text/x-python",
   "name": "python",
   "nbconvert_exporter": "python",
   "pygments_lexer": "ipython3",
   "version": "3.8.10"
  },
  "orig_nbformat": 4
 },
 "nbformat": 4,
 "nbformat_minor": 2
}
