{
 "cells": [
  {
   "cell_type": "code",
   "execution_count": 1,
   "metadata": {},
   "outputs": [
    {
     "data": {
      "text/plain": [
       "'/home/billdjomkam'"
      ]
     },
     "execution_count": 1,
     "metadata": {},
     "output_type": "execute_result"
    }
   ],
   "source": [
    "pwd"
   ]
  },
  {
   "cell_type": "code",
   "execution_count": 2,
   "metadata": {},
   "outputs": [
    {
     "name": "stdout",
     "output_type": "stream",
     "text": [
      "/home/billdjomkam/Documents/Seq_SRB/excel_epath_25_SRB\n"
     ]
    }
   ],
   "source": [
    "%cd /home/billdjomkam/Documents/Seq_SRB/excel_epath_25_SRB"
   ]
  },
  {
   "cell_type": "code",
   "execution_count": 3,
   "metadata": {},
   "outputs": [],
   "source": [
    "import pandas as pd"
   ]
  },
  {
   "cell_type": "code",
   "execution_count": 48,
   "metadata": {},
   "outputs": [],
   "source": [
    "content = pd.read_excel(\"Thermodesulfobacterium commune.xlsx\")"
   ]
  },
  {
   "cell_type": "code",
   "execution_count": 49,
   "metadata": {},
   "outputs": [
    {
     "data": {
      "text/html": [
       "<div>\n",
       "<style scoped>\n",
       "    .dataframe tbody tr th:only-of-type {\n",
       "        vertical-align: middle;\n",
       "    }\n",
       "\n",
       "    .dataframe tbody tr th {\n",
       "        vertical-align: top;\n",
       "    }\n",
       "\n",
       "    .dataframe thead th {\n",
       "        text-align: right;\n",
       "    }\n",
       "</style>\n",
       "<table border=\"1\" class=\"dataframe\">\n",
       "  <thead>\n",
       "    <tr style=\"text-align: right;\">\n",
       "      <th></th>\n",
       "      <th>Unnamed: 0</th>\n",
       "      <th>Org</th>\n",
       "      <th>Gene_Locus</th>\n",
       "      <th>KO_Nbr</th>\n",
       "      <th>Gene_Name</th>\n",
       "      <th>Gene_Function</th>\n",
       "      <th>E_Score</th>\n",
       "      <th>P_Score</th>\n",
       "      <th>Organism</th>\n",
       "      <th>Gene_essentaility</th>\n",
       "    </tr>\n",
       "  </thead>\n",
       "  <tbody>\n",
       "    <tr>\n",
       "      <th>0</th>\n",
       "      <td>0</td>\n",
       "      <td>tcm</td>\n",
       "      <td>HL41_00015</td>\n",
       "      <td>K03389</td>\n",
       "      <td>hdrB</td>\n",
       "      <td>heterodisulfide reductase subunit B</td>\n",
       "      <td>0.0000</td>\n",
       "      <td>0.0000</td>\n",
       "      <td>Thermodesulfobacterium commune</td>\n",
       "      <td>NE</td>\n",
       "    </tr>\n",
       "    <tr>\n",
       "      <th>1</th>\n",
       "      <td>1</td>\n",
       "      <td>tcm</td>\n",
       "      <td>HL41_00025</td>\n",
       "      <td>K14128</td>\n",
       "      <td>mvhG, vhuG, vhcG</td>\n",
       "      <td>F420-non-reducing hydrogenase small subunit</td>\n",
       "      <td>0.0000</td>\n",
       "      <td>0.0063</td>\n",
       "      <td>Thermodesulfobacterium commune</td>\n",
       "      <td>NE</td>\n",
       "    </tr>\n",
       "    <tr>\n",
       "      <th>2</th>\n",
       "      <td>2</td>\n",
       "      <td>tcm</td>\n",
       "      <td>HL41_00075</td>\n",
       "      <td>K02110</td>\n",
       "      <td>ATPF0C, atpE</td>\n",
       "      <td>F-type H+-transporting ATPase subunit c</td>\n",
       "      <td>0.2416</td>\n",
       "      <td>0.2823</td>\n",
       "      <td>Thermodesulfobacterium commune</td>\n",
       "      <td>NE</td>\n",
       "    </tr>\n",
       "    <tr>\n",
       "      <th>3</th>\n",
       "      <td>3</td>\n",
       "      <td>tcm</td>\n",
       "      <td>HL41_00080</td>\n",
       "      <td>K02108</td>\n",
       "      <td>ATPF0A, atpB</td>\n",
       "      <td>F-type H+-transporting ATPase subunit a</td>\n",
       "      <td>0.3003</td>\n",
       "      <td>0.3956</td>\n",
       "      <td>Thermodesulfobacterium commune</td>\n",
       "      <td>NE</td>\n",
       "    </tr>\n",
       "    <tr>\n",
       "      <th>4</th>\n",
       "      <td>4</td>\n",
       "      <td>tcm</td>\n",
       "      <td>HL41_00125</td>\n",
       "      <td>K01678</td>\n",
       "      <td>E4.2.1.2AB, fumB</td>\n",
       "      <td>fumarate hydratase subunit beta</td>\n",
       "      <td>0.1422</td>\n",
       "      <td>0.0503</td>\n",
       "      <td>Thermodesulfobacterium commune</td>\n",
       "      <td>NE</td>\n",
       "    </tr>\n",
       "    <tr>\n",
       "      <th>...</th>\n",
       "      <td>...</td>\n",
       "      <td>...</td>\n",
       "      <td>...</td>\n",
       "      <td>...</td>\n",
       "      <td>...</td>\n",
       "      <td>...</td>\n",
       "      <td>...</td>\n",
       "      <td>...</td>\n",
       "      <td>...</td>\n",
       "      <td>...</td>\n",
       "    </tr>\n",
       "    <tr>\n",
       "      <th>575</th>\n",
       "      <td>575</td>\n",
       "      <td>tcm</td>\n",
       "      <td>HL41_09205</td>\n",
       "      <td>K03389</td>\n",
       "      <td>hdrB</td>\n",
       "      <td>heterodisulfide reductase subunit B</td>\n",
       "      <td>0.0000</td>\n",
       "      <td>0.0000</td>\n",
       "      <td>Thermodesulfobacterium commune</td>\n",
       "      <td>NE</td>\n",
       "    </tr>\n",
       "    <tr>\n",
       "      <th>576</th>\n",
       "      <td>576</td>\n",
       "      <td>tcm</td>\n",
       "      <td>HL41_09215</td>\n",
       "      <td>K14128</td>\n",
       "      <td>mvhG, vhuG, vhcG</td>\n",
       "      <td>F420-non-reducing hydrogenase small subunit</td>\n",
       "      <td>0.0000</td>\n",
       "      <td>0.0063</td>\n",
       "      <td>Thermodesulfobacterium commune</td>\n",
       "      <td>NE</td>\n",
       "    </tr>\n",
       "    <tr>\n",
       "      <th>577</th>\n",
       "      <td>577</td>\n",
       "      <td>tcm</td>\n",
       "      <td>HL41_09220</td>\n",
       "      <td>K14126</td>\n",
       "      <td>mvhA, vhuA, vhcA</td>\n",
       "      <td>F420-non-reducing hydrogenase large subunit</td>\n",
       "      <td>0.0000</td>\n",
       "      <td>0.0063</td>\n",
       "      <td>Thermodesulfobacterium commune</td>\n",
       "      <td>NE</td>\n",
       "    </tr>\n",
       "    <tr>\n",
       "      <th>578</th>\n",
       "      <td>578</td>\n",
       "      <td>tcm</td>\n",
       "      <td>HL41_09230</td>\n",
       "      <td>K03389</td>\n",
       "      <td>hdrB</td>\n",
       "      <td>heterodisulfide reductase subunit B</td>\n",
       "      <td>0.0000</td>\n",
       "      <td>0.0000</td>\n",
       "      <td>Thermodesulfobacterium commune</td>\n",
       "      <td>NE</td>\n",
       "    </tr>\n",
       "    <tr>\n",
       "      <th>579</th>\n",
       "      <td>579</td>\n",
       "      <td>tcm</td>\n",
       "      <td>HL41_09235</td>\n",
       "      <td>K03390</td>\n",
       "      <td>hdrC</td>\n",
       "      <td>heterodisulfide reductase subunit C</td>\n",
       "      <td>0.0000</td>\n",
       "      <td>0.0000</td>\n",
       "      <td>Thermodesulfobacterium commune</td>\n",
       "      <td>NE</td>\n",
       "    </tr>\n",
       "  </tbody>\n",
       "</table>\n",
       "<p>580 rows × 10 columns</p>\n",
       "</div>"
      ],
      "text/plain": [
       "     Unnamed: 0  Org  Gene_Locus  KO_Nbr         Gene_Name  \\\n",
       "0             0  tcm  HL41_00015  K03389              hdrB   \n",
       "1             1  tcm  HL41_00025  K14128  mvhG, vhuG, vhcG   \n",
       "2             2  tcm  HL41_00075  K02110      ATPF0C, atpE   \n",
       "3             3  tcm  HL41_00080  K02108      ATPF0A, atpB   \n",
       "4             4  tcm  HL41_00125  K01678  E4.2.1.2AB, fumB   \n",
       "..          ...  ...         ...     ...               ...   \n",
       "575         575  tcm  HL41_09205  K03389              hdrB   \n",
       "576         576  tcm  HL41_09215  K14128  mvhG, vhuG, vhcG   \n",
       "577         577  tcm  HL41_09220  K14126  mvhA, vhuA, vhcA   \n",
       "578         578  tcm  HL41_09230  K03389              hdrB   \n",
       "579         579  tcm  HL41_09235  K03390              hdrC   \n",
       "\n",
       "                                   Gene_Function  E_Score  P_Score  \\\n",
       "0            heterodisulfide reductase subunit B   0.0000   0.0000   \n",
       "1    F420-non-reducing hydrogenase small subunit   0.0000   0.0063   \n",
       "2        F-type H+-transporting ATPase subunit c   0.2416   0.2823   \n",
       "3        F-type H+-transporting ATPase subunit a   0.3003   0.3956   \n",
       "4                fumarate hydratase subunit beta   0.1422   0.0503   \n",
       "..                                           ...      ...      ...   \n",
       "575          heterodisulfide reductase subunit B   0.0000   0.0000   \n",
       "576  F420-non-reducing hydrogenase small subunit   0.0000   0.0063   \n",
       "577  F420-non-reducing hydrogenase large subunit   0.0000   0.0063   \n",
       "578          heterodisulfide reductase subunit B   0.0000   0.0000   \n",
       "579          heterodisulfide reductase subunit C   0.0000   0.0000   \n",
       "\n",
       "                           Organism Gene_essentaility  \n",
       "0    Thermodesulfobacterium commune                NE  \n",
       "1    Thermodesulfobacterium commune                NE  \n",
       "2    Thermodesulfobacterium commune                NE  \n",
       "3    Thermodesulfobacterium commune                NE  \n",
       "4    Thermodesulfobacterium commune                NE  \n",
       "..                              ...               ...  \n",
       "575  Thermodesulfobacterium commune                NE  \n",
       "576  Thermodesulfobacterium commune                NE  \n",
       "577  Thermodesulfobacterium commune                NE  \n",
       "578  Thermodesulfobacterium commune                NE  \n",
       "579  Thermodesulfobacterium commune                NE  \n",
       "\n",
       "[580 rows x 10 columns]"
      ]
     },
     "execution_count": 49,
     "metadata": {},
     "output_type": "execute_result"
    }
   ],
   "source": [
    "content"
   ]
  },
  {
   "cell_type": "code",
   "execution_count": 50,
   "metadata": {},
   "outputs": [],
   "source": [
    "ess = content[\"Gene_essentaility\"]"
   ]
  },
  {
   "cell_type": "code",
   "execution_count": 51,
   "metadata": {},
   "outputs": [],
   "source": [
    "count_e = 0\n",
    "count_ne = 0\n",
    "\n",
    "for i in ess:\n",
    "    if i ==\"E\":\n",
    "        count_e = count_e +1\n",
    "    else:\n",
    "        count_ne = count_ne +1"
   ]
  },
  {
   "cell_type": "code",
   "execution_count": 52,
   "metadata": {},
   "outputs": [
    {
     "name": "stdout",
     "output_type": "stream",
     "text": [
      "Nbre de gene essentiels =  97\n",
      "Nbre de gene non essentiels =  483\n"
     ]
    }
   ],
   "source": [
    "print(\"Nbre de gene essentiels = \",count_e)\n",
    "print(\"Nbre de gene non essentiels = \",count_ne)"
   ]
  },
  {
   "cell_type": "code",
   "execution_count": null,
   "metadata": {},
   "outputs": [],
   "source": []
  }
 ],
 "metadata": {
  "interpreter": {
   "hash": "916dbcbb3f70747c44a77c7bcd40155683ae19c65e1c03b4aa3499c5328201f1"
  },
  "kernelspec": {
   "display_name": "Python 3.8.10 64-bit",
   "language": "python",
   "name": "python3"
  },
  "language_info": {
   "codemirror_mode": {
    "name": "ipython",
    "version": 3
   },
   "file_extension": ".py",
   "mimetype": "text/x-python",
   "name": "python",
   "nbconvert_exporter": "python",
   "pygments_lexer": "ipython3",
   "version": "3.8.10"
  },
  "orig_nbformat": 4
 },
 "nbformat": 4,
 "nbformat_minor": 2
}
