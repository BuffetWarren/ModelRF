{
 "cells": [
  {
   "cell_type": "code",
   "execution_count": 1,
   "metadata": {},
   "outputs": [
    {
     "name": "stdout",
     "output_type": "stream",
     "text": [
      "/home/billdjomkam/Bureau/Final work/Features_collections/Test\n"
     ]
    }
   ],
   "source": [
    "cd /home/billdjomkam/Bureau/Final work/Features_collections/Test"
   ]
  },
  {
   "cell_type": "code",
   "execution_count": 2,
   "metadata": {},
   "outputs": [],
   "source": [
    "import pandas as pd\n",
    "import os \n",
    "from os import listdir"
   ]
  },
  {
   "cell_type": "code",
   "execution_count": 3,
   "metadata": {},
   "outputs": [],
   "source": [
    "path = \"./\""
   ]
  },
  {
   "cell_type": "code",
   "execution_count": 4,
   "metadata": {},
   "outputs": [],
   "source": [
    "#Bloc proteins\n",
    "code_ct = \"combineCTDC_CTDD_CTDT.R\"\n",
    "code_aac = \"combineAAC_PAAC.R\"\n",
    "ctdc = \"EssentialFeature_collection_CTDC.csv\"\n",
    "ctdd = \"EssentialFeature_collection_CTDD.csv\"\n",
    "ctdt = \"EssentialFeature_collection_CTDT.csv\"\n",
    "aac = \"EssentialFeature_collection_AAC.csv\"\n",
    "paac = \"EssentialFeature_collection_PAAC.csv\"\n",
    "\n",
    "#Bloc genes\n",
    "code_daac = \"combineDAAC_DCC.R\"\n",
    "code_taac = \"combineTACC_TCC.R\"\n",
    "daac = \"EssentialFeature_collection_DACC.csv\"\n",
    "dcc = \"EssentialFeature_collection_DCC.csv\"\n",
    "tacc = \"EssentialFeature_collection_TACC.csv\"\n",
    "tcc = \"EssentialFeature_collection_TCC.csv\"\n"
   ]
  },
  {
   "cell_type": "code",
   "execution_count": 6,
   "metadata": {},
   "outputs": [
    {
     "name": "stdout",
     "output_type": "stream",
     "text": [
      "./dti_Feature_collection/subgroup_gene/\n",
      "/home/billdjomkam/Bureau/Final work/Features_collections/Test/dti_Feature_collection/subgroup_gene\n",
      "/home/billdjomkam/Bureau/Final work/Features_collections/Test\n",
      "./dti_Feature_collection/subgroup_protein/\n",
      "/home/billdjomkam/Bureau/Final work/Features_collections/Test/dti_Feature_collection/subgroup_protein\n",
      "/home/billdjomkam/Bureau/Final work/Features_collections/Test\n",
      "./dsa_Feature_collection/subgroup_gene/\n",
      "/home/billdjomkam/Bureau/Final work/Features_collections/Test/dsa_Feature_collection/subgroup_gene\n",
      "/home/billdjomkam/Bureau/Final work/Features_collections/Test\n",
      "./dsa_Feature_collection/subgroup_protein/\n",
      "/home/billdjomkam/Bureau/Final work/Features_collections/Test/dsa_Feature_collection/subgroup_protein\n",
      "/home/billdjomkam/Bureau/Final work/Features_collections/Test\n",
      "./tcm_Feature_collection/subgroup_gene/\n",
      "/home/billdjomkam/Bureau/Final work/Features_collections/Test/tcm_Feature_collection/subgroup_gene\n",
      "/home/billdjomkam/Bureau/Final work/Features_collections/Test\n",
      "./tcm_Feature_collection/subgroup_protein/\n",
      "/home/billdjomkam/Bureau/Final work/Features_collections/Test/tcm_Feature_collection/subgroup_protein\n",
      "/home/billdjomkam/Bureau/Final work/Features_collections/Test\n",
      "./top_Feature_collection/subgroup_gene/\n",
      "/home/billdjomkam/Bureau/Final work/Features_collections/Test/top_Feature_collection/subgroup_gene\n",
      "/home/billdjomkam/Bureau/Final work/Features_collections/Test\n",
      "./top_Feature_collection/subgroup_protein/\n",
      "/home/billdjomkam/Bureau/Final work/Features_collections/Test/top_Feature_collection/subgroup_protein\n",
      "/home/billdjomkam/Bureau/Final work/Features_collections/Test\n"
     ]
    }
   ],
   "source": [
    "for f in os.listdir(path):\n",
    "    #print(path+\"/\"+f)\n",
    "    if os.path.isdir(path+f):\n",
    "        for ls in os.listdir(path+f):\n",
    "            spath = path+f+\"/\"+ls+\"/\"\n",
    "            if ls ==\"subgroup_protein\":\n",
    "                print(spath)\n",
    "                !cp $code_ct $spath\n",
    "                !cp $code_aac $spath\n",
    "                %cd $spath\n",
    "                !Rscript $code_ct $ctdc $ctdd $ctdt\n",
    "                !Rscript $code_aac $aac $paac\n",
    "                !rm $code_ct $code_aac\n",
    "                %cd ../../\n",
    "                \n",
    "            else:\n",
    "                print(spath)\n",
    "                !cp $code_daac $spath\n",
    "                !cp $code_taac $spath\n",
    "                %cd $spath\n",
    "                !Rscript $code_daac $daac $dcc\n",
    "                !Rscript $code_taac $tacc $tcc\n",
    "                !rm $code_daac $code_taac\n",
    "                %cd ../../"
   ]
  },
  {
   "cell_type": "code",
   "execution_count": 7,
   "metadata": {},
   "outputs": [
    {
     "data": {
      "text/plain": [
       "'/home/billdjomkam/Bureau/Final work/Features_collections/Test/dti_Feature_collection/subgroup_protein'"
      ]
     },
     "execution_count": 7,
     "metadata": {},
     "output_type": "execute_result"
    }
   ],
   "source": [
    "pwd"
   ]
  },
  {
   "cell_type": "code",
   "execution_count": 14,
   "metadata": {},
   "outputs": [],
   "source": [
    "from pathlib import Path"
   ]
  },
  {
   "cell_type": "code",
   "execution_count": 21,
   "metadata": {},
   "outputs": [
    {
     "name": "stdout",
     "output_type": "stream",
     "text": [
      "#####dpg_Feature collection####\n",
      "#####subgroup_gene####\n",
      "#####subgroup_protein####\n",
      "/home/billdjomkam/Bureau/Final work/Features_collections/subgroup_protein\n",
      "#####dba_Feature collection####\n",
      "#####subgroup_gene####\n",
      "#####subgroup_protein####\n",
      "/home/billdjomkam/Bureau/Final work/Features_collections/subgroup_protein\n",
      "#####dsa_Feature collection####\n",
      "#####subgroup_gene####\n",
      "#####subgroup_protein####\n",
      "/home/billdjomkam/Bureau/Final work/Features_collections/subgroup_protein\n",
      "#####dti_Feature collection####\n",
      "#####subgroup_gene####\n",
      "#####subgroup_protein####\n",
      "/home/billdjomkam/Bureau/Final work/Features_collections/subgroup_protein\n",
      "#####top_Feature collection####\n",
      "#####subgroup_gene####\n",
      "#####subgroup_protein####\n",
      "/home/billdjomkam/Bureau/Final work/Features_collections/subgroup_protein\n",
      "#####daf_Feature collection####\n",
      "#####subgroup_gene####\n",
      "#####subgroup_protein####\n",
      "/home/billdjomkam/Bureau/Final work/Features_collections/subgroup_protein\n",
      "#####dde_Feature collection####\n",
      "#####subgroup_gene####\n",
      "#####subgroup_protein####\n",
      "/home/billdjomkam/Bureau/Final work/Features_collections/subgroup_protein\n",
      "#####dhy_Feature collection####\n",
      "#####subgroup_gene####\n",
      "#####subgroup_protein####\n",
      "/home/billdjomkam/Bureau/Final work/Features_collections/subgroup_protein\n",
      "#####dku_Feature collection####\n",
      "#####subgroup_gene####\n",
      "#####subgroup_protein####\n",
      "/home/billdjomkam/Bureau/Final work/Features_collections/subgroup_protein\n",
      "#####dml_Feature collection####\n",
      "#####subgroup_gene####\n",
      "#####subgroup_protein####\n",
      "/home/billdjomkam/Bureau/Final work/Features_collections/subgroup_protein\n",
      "#####dgg_Feature collection####\n",
      "#####subgroup_gene####\n",
      "#####subgroup_protein####\n",
      "/home/billdjomkam/Bureau/Final work/Features_collections/subgroup_protein\n",
      "#####dca_Feature collection####\n",
      "#####subgroup_gene####\n",
      "#####subgroup_protein####\n",
      "/home/billdjomkam/Bureau/Final work/Features_collections/subgroup_protein\n",
      "#####drm_Feature collection####\n",
      "#####subgroup_gene####\n",
      "#####subgroup_protein####\n",
      "/home/billdjomkam/Bureau/Final work/Features_collections/subgroup_protein\n",
      "#####dae_Feature_collection####\n",
      "#####subgroup_gene####\n",
      "#####subgroup_protein####\n",
      "/home/billdjomkam/Bureau/Final work/Features_collections/subgroup_protein\n",
      "#####dpi_Feature collection####\n",
      "#####subgroup_gene####\n",
      "#####subgroup_protein####\n",
      "/home/billdjomkam/Bureau/Final work/Features_collections/subgroup_protein\n",
      "#####dfg_Feature collection####\n",
      "#####subgroup_gene####\n",
      "#####subgroup_protein####\n",
      "/home/billdjomkam/Bureau/Final work/Features_collections/subgroup_protein\n",
      "#####dru_Feature collection####\n",
      "#####subgroup_gene####\n",
      "#####subgroup_protein####\n",
      "/home/billdjomkam/Bureau/Final work/Features_collections/subgroup_protein\n",
      "#####dma_Feature collection####\n",
      "#####subgroup_gene####\n",
      "#####subgroup_protein####\n",
      "/home/billdjomkam/Bureau/Final work/Features_collections/subgroup_protein\n",
      "#####doa_Feature collection####\n",
      "#####subgroup_gene####\n",
      "#####subgroup_protein####\n",
      "/home/billdjomkam/Bureau/Final work/Features_collections/subgroup_protein\n",
      "#####dpr_Feature collection####\n",
      "#####subgroup_gene####\n",
      "#####subgroup_protein####\n",
      "/home/billdjomkam/Bureau/Final work/Features_collections/subgroup_protein\n",
      "#####tcm_Feature collection####\n",
      "#####subgroup_gene####\n",
      "#####subgroup_protein####\n",
      "/home/billdjomkam/Bureau/Final work/Features_collections/subgroup_protein\n",
      "#####dgi_Feature collection####\n",
      "#####subgroup_gene####\n",
      "#####subgroup_protein####\n",
      "/home/billdjomkam/Bureau/Final work/Features_collections/subgroup_protein\n"
     ]
    }
   ],
   "source": [
    "for folder in main_repo:\n",
    "    path = path+\"/\"+folder\n",
    "    if os.path.isdir(\"./\"+folder):\n",
    "        print(\"#####\"+folder+\"####\")\n",
    "        for sub_folder in os.listdir(\"./\"+folder):\n",
    "            print(\"#####\"+sub_folder+\"####\")\n",
    "            if sub_folder == \"subgroup_protein\":\n",
    "                path_sub = \"./\"+folder+\"/\"+sub_folder\n",
    "                relative = Path(sub_folder)\n",
    "                absolute = relative.absolute()\n",
    "                print(absolute)\n",
    "                #p = Path(\"pythonw.exe\"+).resolve()\n",
    "                #for fichier in os.listdir(path_sub):\n",
    "                    #print(path)\n",
    "                    #!cp \"./\"$code path+\"/\"\n",
    "                    #!Rscript $copy_fold $ctdc $ctdd $ctdt\n",
    "                    #print(fichier)"
   ]
  },
  {
   "cell_type": "code",
   "execution_count": null,
   "metadata": {},
   "outputs": [],
   "source": [
    "cd /home/billdjomkam/Bureau/Final work/Features_collections/dae_Feature_collection/subgroup_protein"
   ]
  },
  {
   "cell_type": "code",
   "execution_count": null,
   "metadata": {},
   "outputs": [],
   "source": [
    "%cd subgroup_protein"
   ]
  },
  {
   "cell_type": "code",
   "execution_count": null,
   "metadata": {},
   "outputs": [],
   "source": [
    "ctdc = \"EssentialFeature_collection_CTDC.csv\"\n",
    "ctdd = \"EssentialFeature_collection_CTDD.csv\"\n",
    "ctdt = \"EssentialFeature_collection_CTDT.csv\"\n",
    "aac = \"EssentialFeature_collection_AAC.csv\"\n",
    "paac = \"EssentialFeature_collection_PAAC.csv\""
   ]
  },
  {
   "cell_type": "code",
   "execution_count": null,
   "metadata": {},
   "outputs": [],
   "source": [
    "pwd"
   ]
  },
  {
   "cell_type": "code",
   "execution_count": null,
   "metadata": {},
   "outputs": [],
   "source": [
    "#!cp ../combinerFeature.R ./\n",
    "!Rscript combinerFeature.R $ctdc $ctdd $ctdt\n",
    "#!rm combinerFeature.R"
   ]
  },
  {
   "cell_type": "code",
   "execution_count": null,
   "metadata": {},
   "outputs": [],
   "source": [
    "ls -l"
   ]
  },
  {
   "cell_type": "code",
   "execution_count": null,
   "metadata": {},
   "outputs": [],
   "source": [
    "!Rscript combinerFeature.R $aac $paac"
   ]
  },
  {
   "cell_type": "code",
   "execution_count": null,
   "metadata": {},
   "outputs": [],
   "source": [
    "args<-commandArgs(TRUE)\n",
    "#\n",
    " file1 <- args[1]\n",
    "#\n",
    " file2 <- args[2]\n",
    "\n",
    " file3 <- args[3]\n",
    "# \n",
    "# #peptide_list_essential=read(file1)\n",
    "# #coding_list_essential=readFASTA(file2)\n",
    "#  # l1<- read.csv(\"EssentialFeature_collection_AAC.csv\")\n",
    "#  # l2<- read.csv(\"EssentialFeature_collection_APAAC.csv\")\n",
    "\n",
    " l1<- read.csv(file1)\n",
    " l2<- read.csv(file2)\n",
    " l3<- read.csv(file3)\n",
    "#print(l1)\n",
    "\n",
    " x1 = cbind(l1,l2)\n",
    " x1 = cbind(x1,l3)\n",
    "\n",
    " #featureFileSave=paste(featureFile,\"Feature_collection_AAC_PAAC.csv\",sep=\"\")\n",
    " write.table(x1,file=\" dae_EssentialFeature_collection_CTDC_CTDT_CTDD.csv\",quote=TRUE,sep=\",\")"
   ]
  },
  {
   "cell_type": "code",
   "execution_count": null,
   "metadata": {},
   "outputs": [],
   "source": [
    "fil1 = pd.read_csv(\"EssentialFeature_collection_Nucleotide.csv\")\n",
    "fil1"
   ]
  },
  {
   "cell_type": "code",
   "execution_count": null,
   "metadata": {},
   "outputs": [],
   "source": [
    "cols = fil1.columns\n",
    "cols[259:273]"
   ]
  },
  {
   "cell_type": "code",
   "execution_count": null,
   "metadata": {},
   "outputs": [],
   "source": [
    "fil1['C3s']"
   ]
  },
  {
   "cell_type": "code",
   "execution_count": null,
   "metadata": {},
   "outputs": [],
   "source": []
  }
 ],
 "metadata": {
  "interpreter": {
   "hash": "31f2aee4e71d21fbe5cf8b01ff0e069b9275f58929596ceb00d14d90e3e16cd6"
  },
  "kernelspec": {
   "display_name": "Python 3.8.10 64-bit",
   "language": "python",
   "name": "python3"
  },
  "language_info": {
   "codemirror_mode": {
    "name": "ipython",
    "version": 3
   },
   "file_extension": ".py",
   "mimetype": "text/x-python",
   "name": "python",
   "nbconvert_exporter": "python",
   "pygments_lexer": "ipython3",
   "version": "3.8.10"
  },
  "orig_nbformat": 4
 },
 "nbformat": 4,
 "nbformat_minor": 2
}
