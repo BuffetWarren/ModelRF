{
 "cells": [
  {
   "cell_type": "code",
   "execution_count": 17,
   "metadata": {},
   "outputs": [],
   "source": [
    "import csv\n",
    "import json \n",
    "import os\n",
    "from os import listdir"
   ]
  },
  {
   "cell_type": "code",
   "execution_count": 18,
   "metadata": {},
   "outputs": [
    {
     "name": "stdout",
     "output_type": "stream",
     "text": [
      "/home/billdjomkam/Bureau/M2/ModelRF/results/ceanningtest\n"
     ]
    }
   ],
   "source": [
    "cd /home/billdjomkam/Bureau/M2/ModelRF/results/ceanningtest"
   ]
  },
  {
   "cell_type": "code",
   "execution_count": 19,
   "metadata": {},
   "outputs": [],
   "source": [
    "headerList = ['Feature_Code','Feature_Group','Feature_Sub_group','Precison','Recall','F1-score','AUC']"
   ]
  },
  {
   "cell_type": "code",
   "execution_count": 20,
   "metadata": {},
   "outputs": [],
   "source": [
    "def find_json_filenames( path_to_dir, suffix=\".json\" ):\n",
    "    filenames = listdir(path_to_dir)\n",
    "    return [ filename for filename in filenames if filename.endswith( suffix ) ]"
   ]
  },
  {
   "cell_type": "code",
   "execution_count": 21,
   "metadata": {},
   "outputs": [],
   "source": [
    "'''def get_feature_code(json_file):\n",
    "    features_codes = []\n",
    "    for f in find_json_filenames(\"./\"):\n",
    "        x = f.split(\"_\")\n",
    "        features_codes.append(x[0])\n",
    "    return features_codes'''\n",
    "def get_feature_code(json_file):\n",
    "    x = json_file.split(\"_\")\n",
    "    return x[0]"
   ]
  },
  {
   "cell_type": "code",
   "execution_count": 24,
   "metadata": {},
   "outputs": [],
   "source": [
    "def get_metrics(file):\n",
    "    fichier_json = open(file, 'r', encoding=\"utf-8\")   \n",
    "    with fichier_json as fichier:\n",
    "        data = json.load(fichier)      # load décode un fichier json\n",
    "        metrics = data['METRICS']\n",
    "        auc = data['AUC']\n",
    "        weighted_avg = metrics['weighted avg']\n",
    "        precision = weighted_avg['precision']\n",
    "        recall = weighted_avg['recall']\n",
    "        f1_score = weighted_avg['f1-score']\n",
    "    return {'precision':precision, 'recall':recall, 'f1-score':f1_score,  'auc':auc}"
   ]
  },
  {
   "cell_type": "code",
   "execution_count": 26,
   "metadata": {},
   "outputs": [],
   "source": [
    "def write_values(files):\n",
    "    with open(\"feat_importance/featureGeneration.csv\", 'w') as file: \n",
    "        dw = csv.DictWriter(file, delimiter=',', fieldnames=headerList) \n",
    "        dw.writeheader()\n",
    "    for i in range(len(files)):\n",
    "        metrics = get_metrics(files[i])\n",
    "        f = open(\"feat_importance/featureGeneration.csv\",\"a\", newline=\"\")\n",
    "        tuple1 = (get_feature_code(files[i]),feat_group,feat_sub_group,metrics['precision'],metrics['recall'],metrics['f1-score'],metrics['auc'])\n",
    "        writer = csv.writer(f)\n",
    "        writer.writerow(tuple1)\n",
    "        f.close()"
   ]
  },
  {
   "cell_type": "code",
   "execution_count": 27,
   "metadata": {},
   "outputs": [
    {
     "name": "stdout",
     "output_type": "stream",
     "text": [
      "dde\n",
      "/home/billdjomkam/Bureau/M2/ModelRF/results/ceanningtest/dde\n",
      "dca\n",
      "/home/billdjomkam/Bureau/M2/ModelRF/results/ceanningtest/dca\n",
      "dgi\n",
      "/home/billdjomkam/Bureau/M2/ModelRF/results/ceanningtest/dgi\n",
      "dba\n",
      "/home/billdjomkam/Bureau/M2/ModelRF/results/ceanningtest/dba\n",
      "daf\n",
      "/home/billdjomkam/Bureau/M2/ModelRF/results/ceanningtest/daf\n",
      "dfg\n",
      "/home/billdjomkam/Bureau/M2/ModelRF/results/ceanningtest/dfg\n",
      "dgg\n",
      "/home/billdjomkam/Bureau/M2/ModelRF/results/ceanningtest/dgg\n"
     ]
    }
   ],
   "source": [
    "repo = \"/home/billdjomkam/Bureau/M2/ModelRF/results/ceanningtest\"\n",
    "feat_group = \"Protein Sequence (PSF)\"\n",
    "feat_sub_group = \"sub_group\"\n",
    "for file in os.listdir(repo):\n",
    "    print(file)\n",
    "    chem = repo+\"/\"+file\n",
    "    %cd $chem\n",
    "    files = find_json_filenames(chem)\n",
    "    write_values(files)\n",
    "        "
   ]
  },
  {
   "cell_type": "code",
   "execution_count": 86,
   "metadata": {},
   "outputs": [
    {
     "data": {
      "text/plain": [
       "'Protein'"
      ]
     },
     "execution_count": 86,
     "metadata": {},
     "output_type": "execute_result"
    }
   ],
   "source": [
    "get_feature_code('Protein_Result.json')[0]"
   ]
  },
  {
   "cell_type": "code",
   "execution_count": 55,
   "metadata": {},
   "outputs": [],
   "source": []
  },
  {
   "cell_type": "code",
   "execution_count": 53,
   "metadata": {},
   "outputs": [
    {
     "data": {
      "text/plain": [
       "'/home/billdjomkam/Bureau/M2/ModelRF/results/ceanningtest/dfg'"
      ]
     },
     "execution_count": 53,
     "metadata": {},
     "output_type": "execute_result"
    }
   ],
   "source": [
    "pwd"
   ]
  },
  {
   "cell_type": "code",
   "execution_count": 64,
   "metadata": {},
   "outputs": [],
   "source": [
    "feat_group = \"Protein Sequence (PSF)\"\n",
    "feat_sub_group = \"sub_group\"\n",
    "with open(\"featureGeneration.csv\", 'w') as file: \n",
    "    dw = csv.DictWriter(file, delimiter=',', fieldnames=headerList) \n",
    "    dw.writeheader()\n",
    "f = open(\"featureGeneration.csv\",\"a\", newline=\"\")\n",
    "tuple1 = (f_code[0],feat_group,feat_sub_group,precision,recall,f1_score,auc)\n",
    "writer = csv.writer(f)\n",
    "writer.writerow(tuple1)\n",
    "f.close()"
   ]
  },
  {
   "cell_type": "code",
   "execution_count": 59,
   "metadata": {},
   "outputs": [
    {
     "name": "stdout",
     "output_type": "stream",
     "text": [
      "['Protein_Result.json', 'Moran_Result.json', 'APAAC_Result.json', 'CTDD_Result.json', 'QSO_Result.json', 'Nucleotide_Result.json', 'CTriad_Result.json', 'Tripetite_Result.json', 'Dipetite_Result.json', 'Moreau_Result.json']\n"
     ]
    }
   ],
   "source": [
    "print(json_file)"
   ]
  },
  {
   "cell_type": "code",
   "execution_count": 7,
   "metadata": {},
   "outputs": [],
   "source": [
    "with open(\"featureGeneration.csv\", 'w') as file: \n",
    "    dw = csv.DictWriter(file, delimiter=',', fieldnames=headerList) \n",
    "    dw.writeheader()\n",
    "f = open(\"featureGeneration.csv\",\"a\", newline=\"\")\n",
    "for k in range(len(Feature_code)):\n",
    "    tuple1 = (Feature_code[k],\"Protein Sequence (PSF)\",precision,recall,f1_score,auc)\n",
    "    writer = csv.writer(f)\n",
    "    writer.writerow(tuple1)\n",
    "f.close()"
   ]
  }
 ],
 "metadata": {
  "interpreter": {
   "hash": "916dbcbb3f70747c44a77c7bcd40155683ae19c65e1c03b4aa3499c5328201f1"
  },
  "kernelspec": {
   "display_name": "Python 3.8.10 64-bit",
   "language": "python",
   "name": "python3"
  },
  "language_info": {
   "codemirror_mode": {
    "name": "ipython",
    "version": 3
   },
   "file_extension": ".py",
   "mimetype": "text/x-python",
   "name": "python",
   "nbconvert_exporter": "python",
   "pygments_lexer": "ipython3",
   "version": "3.8.10"
  },
  "orig_nbformat": 4
 },
 "nbformat": 4,
 "nbformat_minor": 2
}
