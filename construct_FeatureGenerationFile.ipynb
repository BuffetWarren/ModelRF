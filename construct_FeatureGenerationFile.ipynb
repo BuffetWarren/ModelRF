{
 "cells": [
  {
   "cell_type": "code",
   "execution_count": 17,
   "metadata": {},
   "outputs": [],
   "source": [
    "import csv\n",
    "import json \n",
    "import os\n",
    "from os import listdir"
   ]
  },
  {
   "cell_type": "code",
   "execution_count": 18,
   "metadata": {},
   "outputs": [
    {
     "name": "stdout",
     "output_type": "stream",
     "text": [
      "/home/billdjomkam/Bureau/M2/ModelRF/results/ceanningtest\n"
     ]
    }
   ],
   "source": [
    "cd /home/billdjomkam/Bureau/M2/ModelRF/results/ceanningtest"
   ]
  },
  {
   "cell_type": "code",
   "execution_count": 19,
   "metadata": {},
   "outputs": [],
   "source": [
    "headerList = ['Feature_Code','Feature_Group','Feature_Sub_group','Precison','Recall','F1-score','AUC']"
   ]
  },
  {
   "cell_type": "code",
   "execution_count": 20,
   "metadata": {},
   "outputs": [],
   "source": [
    "def find_json_filenames( path_to_dir, suffix=\".json\" ):\n",
    "    filenames = listdir(path_to_dir)\n",
    "    return [ filename for filename in filenames if filename.endswith( suffix ) ]"
   ]
  },
  {
   "cell_type": "code",
   "execution_count": 28,
   "metadata": {},
   "outputs": [],
   "source": [
    "def get_feature_code(json_file):\n",
    "    x = json_file.split(\"_\")\n",
    "    return x[0]"
   ]
  },
  {
   "cell_type": "code",
   "execution_count": 24,
   "metadata": {},
   "outputs": [],
   "source": [
    "def get_metrics(file):\n",
    "    fichier_json = open(file, 'r', encoding=\"utf-8\")   \n",
    "    with fichier_json as fichier:\n",
    "        data = json.load(fichier)      # load décode un fichier json\n",
    "        metrics = data['METRICS']\n",
    "        auc = data['AUC']\n",
    "        weighted_avg = metrics['weighted avg']\n",
    "        precision = weighted_avg['precision']\n",
    "        recall = weighted_avg['recall']\n",
    "        f1_score = weighted_avg['f1-score']\n",
    "    return {'precision':precision, 'recall':recall, 'f1-score':f1_score,  'auc':auc}"
   ]
  },
  {
   "cell_type": "code",
   "execution_count": 26,
   "metadata": {},
   "outputs": [],
   "source": [
    "def write_values(files):\n",
    "    with open(\"feat_importance/featureGeneration.csv\", 'w') as file: \n",
    "        dw = csv.DictWriter(file, delimiter=',', fieldnames=headerList) \n",
    "        dw.writeheader()\n",
    "    for i in range(len(files)):\n",
    "        metrics = get_metrics(files[i])\n",
    "        f = open(\"feat_importance/featureGeneration.csv\",\"a\", newline=\"\")\n",
    "        tuple1 = (get_feature_code(files[i]),feat_group,feat_sub_group,metrics['precision'],metrics['recall'],metrics['f1-score'],metrics['auc'])\n",
    "        writer = csv.writer(f)\n",
    "        writer.writerow(tuple1)\n",
    "        f.close()"
   ]
  },
  {
   "cell_type": "code",
   "execution_count": 27,
   "metadata": {},
   "outputs": [
    {
     "name": "stdout",
     "output_type": "stream",
     "text": [
      "dde\n",
      "/home/billdjomkam/Bureau/M2/ModelRF/results/ceanningtest/dde\n",
      "dca\n",
      "/home/billdjomkam/Bureau/M2/ModelRF/results/ceanningtest/dca\n",
      "dgi\n",
      "/home/billdjomkam/Bureau/M2/ModelRF/results/ceanningtest/dgi\n",
      "dba\n",
      "/home/billdjomkam/Bureau/M2/ModelRF/results/ceanningtest/dba\n",
      "daf\n",
      "/home/billdjomkam/Bureau/M2/ModelRF/results/ceanningtest/daf\n",
      "dfg\n",
      "/home/billdjomkam/Bureau/M2/ModelRF/results/ceanningtest/dfg\n",
      "dgg\n",
      "/home/billdjomkam/Bureau/M2/ModelRF/results/ceanningtest/dgg\n"
     ]
    }
   ],
   "source": [
    "repo = \"/home/billdjomkam/Bureau/M2/ModelRF/results/ceanningtest\"\n",
    "feat_group = \"Protein Sequence (PSF)\"\n",
    "feat_sub_group = \"sub_group\"\n",
    "for file in os.listdir(repo):\n",
    "    print(file)\n",
    "    chem = repo+\"/\"+file\n",
    "    %cd $chem\n",
    "    files = find_json_filenames(chem)\n",
    "    write_values(files)\n",
    "        "
   ]
  }
 ],
 "metadata": {
  "interpreter": {
   "hash": "916dbcbb3f70747c44a77c7bcd40155683ae19c65e1c03b4aa3499c5328201f1"
  },
  "kernelspec": {
   "display_name": "Python 3.8.10 64-bit",
   "language": "python",
   "name": "python3"
  },
  "language_info": {
   "codemirror_mode": {
    "name": "ipython",
    "version": 3
   },
   "file_extension": ".py",
   "mimetype": "text/x-python",
   "name": "python",
   "nbconvert_exporter": "python",
   "pygments_lexer": "ipython3",
   "version": "3.8.10"
  },
  "orig_nbformat": 4
 },
 "nbformat": 4,
 "nbformat_minor": 2
}
