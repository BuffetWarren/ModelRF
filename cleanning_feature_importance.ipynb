{
 "cells": [
  {
   "cell_type": "markdown",
   "metadata": {},
   "source": [
    "@author ***FOTIE TABA Warren***\n",
    "\n",
    "## 17 Mai 2022\n",
    "\n",
    "### Ce notebook permet de nettoyer tous les features importances\n"
   ]
  },
  {
   "cell_type": "code",
   "execution_count": 16,
   "metadata": {},
   "outputs": [],
   "source": [
    "import pandas as pd\n",
    "from os import listdir\n",
    "import csv"
   ]
  },
  {
   "cell_type": "code",
   "execution_count": 17,
   "metadata": {},
   "outputs": [
    {
     "name": "stdout",
     "output_type": "stream",
     "text": [
      "/home/billdjomkam/Bureau/M2/ModelRF/results/dru (copie)\n"
     ]
    }
   ],
   "source": [
    "cd /home/billdjomkam/Bureau/M2/ModelRF/results/dru (copie)"
   ]
  },
  {
   "cell_type": "code",
   "execution_count": 39,
   "metadata": {},
   "outputs": [],
   "source": [
    "def find_csv_filenames( path_to_dir, suffix=\".csv\" ):\n",
    "    filenames = listdir(path_to_dir)\n",
    "    return [ filename for filename in filenames if filename.endswith( suffix ) ]"
   ]
  },
  {
   "cell_type": "code",
   "execution_count": 48,
   "metadata": {},
   "outputs": [],
   "source": [
    "'''Cette fonction section tous les fichiers au format csv qui correspondent\n",
    "aux feautures importance et le notoye afin d'avoir deux colone une pour\n",
    "le non du feaure et l'autre pour le score obtenu lors de l'execution du modele'''\n",
    "def clean_feat_importance(path):\n",
    "    #path = './'\n",
    "    file1 = find_csv_filenames(path)\n",
    "    !mkdir feat_importance\n",
    "    for i in range(len(file1)):\n",
    "        f = open(file1[i])\n",
    "        content = list(f)\n",
    "        feat_names =[]\n",
    "        scores = []\n",
    "        characters = \"'\"\n",
    "        for j in range(1,len(content)):\n",
    "            x = content[j].split(\",\")\n",
    "            feat = x[0].split(\"=\")\n",
    "            feature = ''.join( x for x in feat[1] if x not in characters)\n",
    "            y = x[5].split(\";\")\n",
    "            feat_names.append(feature)\n",
    "            scores.append(y[1])\n",
    "            headerList = ['Feature_name','score']\n",
    "            name_file = file1[i].split(\".\")\n",
    "        with open(\"feat_importance/\"+name_file[0]+\".csv\", 'w') as file: \n",
    "            dw = csv.DictWriter(file, delimiter=',', fieldnames=headerList) \n",
    "            dw.writeheader()\n",
    "        f.close()\n",
    "        f = open(\"feat_importance/\"+name_file[0]+\".csv\",\"a\", newline=\"\")\n",
    "        for k in range(len(content)-1):\n",
    "            tuple1 = (feat_names[k],scores[k])\n",
    "            writer = csv.writer(f)\n",
    "            writer.writerow(tuple1)\n",
    "        f.close()\n",
    "        #conversion en fichier excel\n",
    "        ex_file = \"feat_importance/\"+name_file[0]+\".csv\"\n",
    "        read_file = pd.read_csv (ex_file)\n",
    "        read_file.to_excel (\"feat_importance/\"+name_file[0]+\".xlsx\", index = None, header=True)\n",
    "        #suppression de l'ancien fichier csv\n",
    "        !rm $ex_file"
   ]
  },
  {
   "cell_type": "code",
   "execution_count": 83,
   "metadata": {},
   "outputs": [],
   "source": [
    "#repertoire contenant les sous-repertoirs d'organisme\n",
    "repo = \"/home/billdjomkam/Bureau/M2/ModelRF/results/ceanningtest\""
   ]
  },
  {
   "cell_type": "code",
   "execution_count": 74,
   "metadata": {},
   "outputs": [
    {
     "name": "stdout",
     "output_type": "stream",
     "text": [
      "/home/billdjomkam/Bureau/M2/ModelRF/results/ceanningtest\n"
     ]
    }
   ],
   "source": [
    "cd ceanningtest"
   ]
  },
  {
   "cell_type": "code",
   "execution_count": 86,
   "metadata": {},
   "outputs": [
    {
     "name": "stdout",
     "output_type": "stream",
     "text": [
      "/home/billdjomkam/Bureau/M2/ModelRF/results/ceanningtest/dde\n",
      "/home/billdjomkam/Bureau/M2/ModelRF/results/ceanningtest/dca\n",
      "/home/billdjomkam/Bureau/M2/ModelRF/results/ceanningtest/dgi\n",
      "/home/billdjomkam/Bureau/M2/ModelRF/results/ceanningtest/dba\n",
      "/home/billdjomkam/Bureau/M2/ModelRF/results/ceanningtest/daf\n",
      "/home/billdjomkam/Bureau/M2/ModelRF/results/ceanningtest/dfg\n",
      "/home/billdjomkam/Bureau/M2/ModelRF/results/ceanningtest/dgg\n"
     ]
    }
   ],
   "source": [
    "'''Nettoyage pour tous les organismes'''\n",
    "for file in os.listdir(repo):\n",
    "    chem = repo+\"/\"+file\n",
    "    %cd $chem\n",
    "    clean_feat_importance(chem)\n",
    "\n",
    "    "
   ]
  }
 ],
 "metadata": {
  "interpreter": {
   "hash": "916dbcbb3f70747c44a77c7bcd40155683ae19c65e1c03b4aa3499c5328201f1"
  },
  "kernelspec": {
   "display_name": "Python 3.8.10 64-bit",
   "language": "python",
   "name": "python3"
  },
  "language_info": {
   "codemirror_mode": {
    "name": "ipython",
    "version": 3
   },
   "file_extension": ".py",
   "mimetype": "text/x-python",
   "name": "python",
   "nbconvert_exporter": "python",
   "pygments_lexer": "ipython3",
   "version": "3.8.10"
  },
  "orig_nbformat": 4
 },
 "nbformat": 4,
 "nbformat_minor": 2
}
