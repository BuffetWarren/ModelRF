{
 "cells": [
  {
   "cell_type": "code",
   "execution_count": 269,
   "metadata": {},
   "outputs": [],
   "source": [
    "import pandas as pd\n",
    "from os import listdir"
   ]
  },
  {
   "cell_type": "code",
   "execution_count": 270,
   "metadata": {},
   "outputs": [],
   "source": [
    "def find_csv_filenames( path_to_dir, suffix=\".csv\" ):\n",
    "    filenames = listdir(path_to_dir)\n",
    "    return [ filename for filename in filenames if filename.endswith( suffix ) ]"
   ]
  },
  {
   "cell_type": "code",
   "execution_count": 271,
   "metadata": {},
   "outputs": [],
   "source": [
    "path = './'\n",
    "file1 = find_csv_filenames(path)"
   ]
  },
  {
   "cell_type": "code",
   "execution_count": null,
   "metadata": {},
   "outputs": [],
   "source": []
  },
  {
   "cell_type": "code",
   "execution_count": 289,
   "metadata": {},
   "outputs": [],
   "source": [
    "for i in range(len(file1)):\n",
    "    f = open(file1[i])\n",
    "    content = list(f)\n",
    "    feat_names =[]\n",
    "    scores = []\n",
    "    characters = \"'\"\n",
    "    for j in range(1,len(content)):\n",
    "        x = content[j].split(\",\")\n",
    "        feat = x[0].split(\"=\")\n",
    "        feature = ''.join( x for x in feat[1] if x not in characters)\n",
    "        y = x[5].split(\";\")\n",
    "        feat_names.append(feature)\n",
    "        scores.append(y[1])\n",
    "    headerList = ['Feature_name','score']\n",
    "    name_file = file1[i].split(\".\")\n",
    "    with open(\"feat_importance/\"+name_file[0]+\".csv\", 'w') as file: \n",
    "        dw = csv.DictWriter(file, delimiter=',',  \n",
    "                        fieldnames=headerList) \n",
    "        dw.writeheader()\n",
    "    f.close()\n",
    "    f = open(\"feat_importance/\"+name_file[0]+\".csv\",\"a\", newline=\"\")\n",
    "    for k in range(len(content)-1):\n",
    "        tuple1 = (feat_names[k],scores[k])\n",
    "        writer = csv.writer(f)\n",
    "        writer.writerow(tuple1)\n",
    "    f.close()"
   ]
  },
  {
   "cell_type": "code",
   "execution_count": 253,
   "metadata": {},
   "outputs": [],
   "source": [
    "f = open(\"APAAC_FeatureImportance.csv\")\n",
    "test = list(f)"
   ]
  },
  {
   "cell_type": "code",
   "execution_count": 254,
   "metadata": {},
   "outputs": [],
   "source": [
    "feat_names =[]\n",
    "scores = []\n",
    "characters = \"'\"\n",
    "for i in range(1,len(test)):\n",
    "    #print(test[i])\n",
    "    x = test[i].split(\",\")\n",
    "    feat = x[0].split(\"=\")\n",
    "    feature = ''.join( x for x in feat[1] if x not in characters)\n",
    "    #print(feature)\n",
    "    y = x[5].split(\";\")\n",
    "    #print(feature[1],y[1])\n",
    "    feat_names.append(feature)\n",
    "    scores.append(y[1])\n"
   ]
  },
  {
   "cell_type": "code",
   "execution_count": 255,
   "metadata": {},
   "outputs": [],
   "source": [
    "headerList = ['Feature_name','score']\n",
    "with open(\"feat_importance/feat_import.csv\", 'w') as file: \n",
    "    dw = csv.DictWriter(file, delimiter=',',  \n",
    "                        fieldnames=headerList) \n",
    "    dw.writeheader()\n",
    "f.close()"
   ]
  },
  {
   "cell_type": "code",
   "execution_count": 256,
   "metadata": {},
   "outputs": [],
   "source": [
    "f = open(\"feat_importance/feat_import.csv\",\"a\", newline=\"\")\n",
    "for i in range(len(test)-1):\n",
    "    tuple1 = (feat_names[i],scores[i])\n",
    "    writer = csv.writer(f)\n",
    "    writer.writerow(tuple1)\n",
    "    #writer.writerow(tuple1)\n",
    "f.close()"
   ]
  },
  {
   "cell_type": "code",
   "execution_count": 257,
   "metadata": {},
   "outputs": [],
   "source": [
    "path = '/home/billdjomkam/Bureau/M2/ModelRF/results/dru (copie)'"
   ]
  },
  {
   "cell_type": "code",
   "execution_count": 258,
   "metadata": {},
   "outputs": [],
   "source": [
    "from os import listdir\n",
    "\n",
    "def find_csv_filenames( path_to_dir, suffix=\".csv\" ):\n",
    "    filenames = listdir(path_to_dir)\n",
    "    return [ filename for filename in filenames if filename.endswith( suffix ) ]"
   ]
  },
  {
   "cell_type": "code",
   "execution_count": 259,
   "metadata": {},
   "outputs": [],
   "source": [
    "file1 = find_csv_filenames(path)"
   ]
  },
  {
   "cell_type": "code",
   "execution_count": null,
   "metadata": {},
   "outputs": [],
   "source": []
  }
 ],
 "metadata": {
  "interpreter": {
   "hash": "916dbcbb3f70747c44a77c7bcd40155683ae19c65e1c03b4aa3499c5328201f1"
  },
  "kernelspec": {
   "display_name": "Python 3.8.10 64-bit",
   "language": "python",
   "name": "python3"
  },
  "language_info": {
   "codemirror_mode": {
    "name": "ipython",
    "version": 3
   },
   "file_extension": ".py",
   "mimetype": "text/x-python",
   "name": "python",
   "nbconvert_exporter": "python",
   "pygments_lexer": "ipython3",
   "version": "3.8.10"
  },
  "orig_nbformat": 4
 },
 "nbformat": 4,
 "nbformat_minor": 2
}
